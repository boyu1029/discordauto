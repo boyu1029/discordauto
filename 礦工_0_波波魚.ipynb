{
  "nbformat": 4,
  "nbformat_minor": 0,
  "metadata": {
    "colab": {
      "name": "礦工-0 波波魚",
      "provenance": [],
      "collapsed_sections": [],
      "include_colab_link": true
    },
    "kernelspec": {
      "name": "python3",
      "display_name": "Python 3"
    },
    "language_info": {
      "name": "python"
    }
  },
  "cells": [
    {
      "cell_type": "markdown",
      "metadata": {
        "id": "view-in-github",
        "colab_type": "text"
      },
      "source": [
        "<a href=\"https://colab.research.google.com/github/boyu1029/discordauto/blob/main/%E7%A4%A6%E5%B7%A5_0_%E6%B3%A2%E6%B3%A2%E9%AD%9A.ipynb\" target=\"_parent\"><img src=\"https://colab.research.google.com/assets/colab-badge.svg\" alt=\"Open In Colab\"/></a>"
      ]
    },
    {
      "cell_type": "code",
      "execution_count": 2,
      "metadata": {
        "colab": {
          "base_uri": "https://localhost:8080/"
        },
        "id": "L0BYopoufRs7",
        "outputId": "459d2325-2e8c-47d2-afcd-4cf926c7f354"
      },
      "outputs": [
        {
          "output_type": "stream",
          "name": "stdout",
          "text": [
            "b'{\"id\": \"964482878715088946\", \"type\": 0, \"content\": \"&mine\", \"channel_id\": \"865592368963387402\", \"author\": {\"id\": \"751621192288436385\", \"username\": \"BY\", \"avatar\": \"86a6d18a1efaf722247ce8d475dc8faa\", \"discriminator\": \"3896\", \"public_flags\": 256}, \"attachments\": [], \"embeds\": [], \"mentions\": [], \"mention_roles\": [], \"pinned\": false, \"mention_everyone\": false, \"tts\": false, \"timestamp\": \"2022-04-15T11:10:37.511000+00:00\", \"edited_timestamp\": null, \"flags\": 0, \"components\": [], \"nonce\": \"8232945121478033232234\", \"referenced_message\": null}'\n"
          ]
        }
      ],
      "source": [
        "import requests\n",
        "import json\n",
        "import random\n",
        "import time\n",
        "\n",
        "def get_context():\n",
        "    context_list = [\n",
        "        \"&mine\",\n",
        "    ]\n",
        "    text = random.choice(context_list)\n",
        "    return text\n",
        "\n",
        "def chat(chanel_list,authorization_list):\n",
        "    for authorization in authorization_list:\n",
        "        header = {\n",
        "            \"Authorization\": authorization,\n",
        "            \"Content-Type\": \"application/json\",\n",
        "            \"User-Agent\": \"Mozilla/5.0 (Windows NT 10.0; Win64; x64) AppleWebKit/537.36 (KHTML, like Gecko) Chrome/94.0.4606.61 Safari/537.36\",\n",
        "        }\n",
        "        for chanel_id in chanel_list:\n",
        "            msg = {\n",
        "                \"content\": get_context(),\n",
        "                \"nonce\": \"82329451214{}33232234\".format(random.randrange(0, 1000)),\n",
        "                \"tts\": False,\n",
        "            }\n",
        "            url = \"https://discord.com/api/v9/channels/{}/messages\".format(chanel_id)\n",
        "            try:\n",
        "                res = requests.post(url=url, headers=header, data=json.dumps(msg))\n",
        "                print(res.content)\n",
        "            except:\n",
        "                pass\n",
        "            continue\n",
        "        time.sleep(random.randrange(1, 3))\n",
        "\n",
        "if __name__ == \"__main__\":\n",
        "    chanel_list = [\"865592368963387402\"]\n",
        "    authorization_list = [\"NzUxNjIxMTkyMjg4NDM2Mzg1.YlgbEA.NMqmxYBQ5k70yMkNhc9CknNqPaI\"]\n",
        "    while True:\n",
        "        try:\n",
        "            chat(chanel_list,authorization_list)\n",
        "            sleeptime = 180\n",
        "            time.sleep(sleeptime)\n",
        "        except:\n",
        "            break\n",
        "\n"
      ]
    }
  ]
}